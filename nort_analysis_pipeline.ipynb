{
 "cells": [
  {
   "cell_type": "markdown",
   "id": "ruled-lender",
   "metadata": {},
   "source": [
    "# Novel Object Recognition Data Analysis\n",
    "\n",
    "In this notebook, I will walk through my analysis pipeline for novel object recognition test based data."
   ]
  },
  {
   "cell_type": "code",
   "execution_count": 1,
   "id": "motivated-temperature",
   "metadata": {},
   "outputs": [],
   "source": [
    "import zebrafishanalysis as za"
   ]
  },
  {
   "cell_type": "markdown",
   "id": "serious-disabled",
   "metadata": {},
   "source": [
    "Here, I import the libraries I will be using to analyse. To describe their functions:\n",
    "\n",
    "`zebrafishanalysis`: `za` is my package which provides useful tools for analysing idtrackerai data"
   ]
  },
  {
   "cell_type": "code",
   "execution_count": 2,
   "id": "individual-spread",
   "metadata": {},
   "outputs": [],
   "source": [
    "same_obj_raw = za.load_gapless_trajectories(wo_gaps=\"nor_data/m_1_f_1/same_obj.npy\")\n",
    "diff_obj_raw = za.load_gapless_trajectories(wo_gaps=\"nor_data/m_1_f_1/diff_obj.npy\")\n",
    "\n",
    "same_obj_locations = za.select_pos_from_video(\"nor_data/m_1_f_1/same_obj.mp4\")\n",
    "diff_obj_locations = za.select_pos_from_video(\"nor_data/m_1_f_1/diff_obj.mp4\")\n",
    "\n",
    "same_obj = za.NovelObjectRecognitionTest(same_obj_raw, same_obj_locations)\n",
    "diff_obj = za.NovelObjectRecognitionTest(diff_obj_raw, diff_obj_locations)"
   ]
  },
  {
   "cell_type": "markdown",
   "id": "cardiac-valuable",
   "metadata": {},
   "source": [
    "`za.load_gapless_trajectories(wo_gaps)`: This function reads in an idtrackerai produced wo_gaps file\n",
    "\n",
    "`za.select_pos_from_video(path)` : This function brings up a GUI that allows the researcher to select the locations of objects in the video\n",
    "\n",
    "`za.NovelObjectRecognitionTest(trajectories, object_locations)` : Creates an object to hold the trajectories in a nicer format, and provides multiple tools for analysis of the trajectories"
   ]
  },
  {
   "cell_type": "code",
   "execution_count": 3,
   "id": "governing-saying",
   "metadata": {},
   "outputs": [],
   "source": [
    "same_prefs = same_obj.determine_object_preference_by_frame(100)\n",
    "diff_prefs = diff_obj.determine_object_preference_by_frame(100)"
   ]
  },
  {
   "cell_type": "markdown",
   "id": "motivated-repeat",
   "metadata": {},
   "source": [
    "`determine_object_preference_by_frame(explore_area_radius)` : Returns a tuple that contains preference for objects (a, b, no preference) by frame"
   ]
  },
  {
   "cell_type": "code",
   "execution_count": 4,
   "id": "working-democracy",
   "metadata": {},
   "outputs": [
    {
     "data": {
      "text/plain": [
       "{'e1': 3232,\n",
       " 'e2': 7499,\n",
       " 'd1': 6975,\n",
       " 'd2': 0.9301240165355381,\n",
       " 'd3': 0.965062008267769}"
      ]
     },
     "execution_count": 4,
     "metadata": {},
     "output_type": "execute_result"
    }
   ],
   "source": [
    "za.get_measures(same_prefs, diff_prefs)"
   ]
  },
  {
   "cell_type": "markdown",
   "id": "third-jimmy",
   "metadata": {},
   "source": [
    "`get_mesaures` provides an implementation of the method described in the [Akkerman et al](https://doi.org/10.1016/j.bbr.2012.03.024) paper to analyse NORT data. Briefly:\n",
    "- e1: Total exploration time in the familiarisation trial\n",
    "- e2: Total exploration time in the testing trial\n",
    "- d1: Prefrence for novel object over familiar in testing trial\n",
    "- d2: d1/e1\n",
    "- d3: Preference for novel object out of all preference in testing trial\n",
    "\n",
    "Interestingly, the Akkerman paper suggests that d2 and d3 render the same statistical outcome, whereas d1 will not, as it is not correcting for differences in exploration. As d2 and d3 can be used interchangably, I provide both in the output.\n",
    "\n",
    "Side note: `get_measures` assumes that, for the different object test, that the blue, object_b marker, is placed on the novel object."
   ]
  }
 ],
 "metadata": {
  "kernelspec": {
   "display_name": "Python 3",
   "language": "python",
   "name": "python3"
  },
  "language_info": {
   "codemirror_mode": {
    "name": "ipython",
    "version": 3
   },
   "file_extension": ".py",
   "mimetype": "text/x-python",
   "name": "python",
   "nbconvert_exporter": "python",
   "pygments_lexer": "ipython3",
   "version": "3.8.8"
  }
 },
 "nbformat": 4,
 "nbformat_minor": 5
}
